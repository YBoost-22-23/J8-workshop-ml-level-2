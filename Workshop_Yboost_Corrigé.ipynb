{
  "nbformat": 4,
  "nbformat_minor": 0,
  "metadata": {
    "colab": {
      "provenance": [],
      "include_colab_link": true
    },
    "kernelspec": {
      "name": "python3",
      "display_name": "Python 3"
    },
    "accelerator": "GPU",
    "gpuClass": "standard"
  },
  "cells": [
    {
      "cell_type": "markdown",
      "metadata": {
        "id": "view-in-github",
        "colab_type": "text"
      },
      "source": [
        "<a href=\"https://colab.research.google.com/github/YBoost-22-23/J8-workshop-ml-level-2/blob/main/Workshop_Yboost_Corrig%C3%A9.ipynb\" target=\"_parent\"><img src=\"https://colab.research.google.com/assets/colab-badge.svg\" alt=\"Open In Colab\"/></a>"
      ]
    },
    {
      "cell_type": "code",
      "metadata": {
        "id": "gWskDE2c9WoN",
        "colab": {
          "base_uri": "https://localhost:8080/"
        },
        "outputId": "1a3cf6f1-ac59-462c-edcd-290db5ab56a6"
      },
      "source": [
        "!apt-get update && apt-get install ffmpeg freeglut3-dev xvfb  # For visualization\n",
        "!pip install stable-baselines3[extra] pyglet==1.5.27"
      ],
      "execution_count": 48,
      "outputs": [
        {
          "output_type": "stream",
          "name": "stdout",
          "text": [
            "\r0% [Working]\r            \rHit:1 https://developer.download.nvidia.com/compute/cuda/repos/ubuntu2004/x86_64  InRelease\n",
            "\r0% [Connecting to archive.ubuntu.com] [Waiting for headers] [Waiting for header\r                                                                               \rHit:2 https://cloud.r-project.org/bin/linux/ubuntu focal-cran40/ InRelease\n",
            "Get:3 http://security.ubuntu.com/ubuntu focal-security InRelease [114 kB]\n",
            "Hit:4 http://archive.ubuntu.com/ubuntu focal InRelease\n",
            "Hit:5 http://ppa.launchpad.net/c2d4u.team/c2d4u4.0+/ubuntu focal InRelease\n",
            "Hit:6 http://archive.ubuntu.com/ubuntu focal-updates InRelease\n",
            "Hit:7 http://ppa.launchpad.net/cran/libgit2/ubuntu focal InRelease\n",
            "Get:8 http://archive.ubuntu.com/ubuntu focal-backports InRelease [108 kB]\n",
            "Hit:9 http://ppa.launchpad.net/deadsnakes/ppa/ubuntu focal InRelease\n",
            "Hit:10 http://ppa.launchpad.net/graphics-drivers/ppa/ubuntu focal InRelease\n",
            "Hit:11 http://ppa.launchpad.net/ubuntugis/ppa/ubuntu focal InRelease\n",
            "Fetched 222 kB in 1s (170 kB/s)\n",
            "Reading package lists... Done\n",
            "Reading package lists... Done\n",
            "Building dependency tree       \n",
            "Reading state information... Done\n",
            "freeglut3-dev is already the newest version (2.8.1-3).\n",
            "ffmpeg is already the newest version (7:4.2.7-0ubuntu0.1).\n",
            "xvfb is already the newest version (2:1.20.13-1ubuntu1~20.04.6).\n",
            "0 upgraded, 0 newly installed, 0 to remove and 24 not upgraded.\n",
            "Looking in indexes: https://pypi.org/simple, https://us-python.pkg.dev/colab-wheels/public/simple/\n",
            "Requirement already satisfied: stable-baselines3[extra] in /usr/local/lib/python3.9/dist-packages/stable_baselines3-1.8.0a10-py3.9.egg (1.8.0a10)\n",
            "Collecting pyglet==1.5.27\n",
            "  Using cached pyglet-1.5.27-py3-none-any.whl (1.1 MB)\n",
            "Collecting gym==0.21\n",
            "  Using cached gym-0.21.0.tar.gz (1.5 MB)\n",
            "  \u001b[1;31merror\u001b[0m: \u001b[1msubprocess-exited-with-error\u001b[0m\n",
            "  \n",
            "  \u001b[31m×\u001b[0m \u001b[32mpython setup.py egg_info\u001b[0m did not run successfully.\n",
            "  \u001b[31m│\u001b[0m exit code: \u001b[1;36m1\u001b[0m\n",
            "  \u001b[31m╰─>\u001b[0m See above for output.\n",
            "  \n",
            "  \u001b[1;35mnote\u001b[0m: This error originates from a subprocess, and is likely not a problem with pip.\n",
            "  Preparing metadata (setup.py) ... \u001b[?25l\u001b[?25herror\n",
            "\u001b[1;31merror\u001b[0m: \u001b[1mmetadata-generation-failed\u001b[0m\n",
            "\n",
            "\u001b[31m×\u001b[0m Encountered error while generating package metadata.\n",
            "\u001b[31m╰─>\u001b[0m See above for output.\n",
            "\n",
            "\u001b[1;35mnote\u001b[0m: This is an issue with the package mentioned above, not pip.\n",
            "\u001b[1;36mhint\u001b[0m: See above for details.\n"
          ]
        }
      ]
    },
    {
      "cell_type": "code",
      "source": [
        "!git clone https://github.com/DLR-RM/stable-baselines3.git\n",
        "%cd stable-baselines3\n",
        "!python setup.py install\n"
      ],
      "metadata": {
        "colab": {
          "base_uri": "https://localhost:8080/"
        },
        "id": "v7qIT54z0Z-9",
        "outputId": "38e60670-42de-4e7c-a631-9932dc28aded"
      },
      "execution_count": 49,
      "outputs": [
        {
          "output_type": "stream",
          "name": "stdout",
          "text": [
            "Cloning into 'stable-baselines3'...\n",
            "remote: Enumerating objects: 11557, done.\u001b[K\n",
            "remote: Counting objects: 100% (271/271), done.\u001b[K\n",
            "remote: Compressing objects: 100% (127/127), done.\u001b[K\n",
            "remote: Total 11557 (delta 159), reused 232 (delta 138), pack-reused 11286\u001b[K\n",
            "Receiving objects: 100% (11557/11557), 4.61 MiB | 8.56 MiB/s, done.\n",
            "Resolving deltas: 100% (8464/8464), done.\n",
            "/content/stable-baselines3/stable-baselines3/stable-baselines3\n",
            "running install\n",
            "/usr/local/lib/python3.9/dist-packages/setuptools/command/install.py:34: SetuptoolsDeprecationWarning: setup.py install is deprecated. Use build and pip and other standards-based tools.\n",
            "  warnings.warn(\n",
            "/usr/local/lib/python3.9/dist-packages/setuptools/command/easy_install.py:144: EasyInstallDeprecationWarning: easy_install command is deprecated. Use build and pip and other standards-based tools.\n",
            "  warnings.warn(\n",
            "running bdist_egg\n",
            "running egg_info\n",
            "creating stable_baselines3.egg-info\n",
            "writing stable_baselines3.egg-info/PKG-INFO\n",
            "writing dependency_links to stable_baselines3.egg-info/dependency_links.txt\n",
            "writing requirements to stable_baselines3.egg-info/requires.txt\n",
            "writing top-level names to stable_baselines3.egg-info/top_level.txt\n",
            "writing manifest file 'stable_baselines3.egg-info/SOURCES.txt'\n",
            "reading manifest file 'stable_baselines3.egg-info/SOURCES.txt'\n",
            "adding license file 'LICENSE'\n",
            "adding license file 'NOTICE'\n",
            "writing manifest file 'stable_baselines3.egg-info/SOURCES.txt'\n",
            "installing library code to build/bdist.linux-x86_64/egg\n",
            "running install_lib\n",
            "running build_py\n",
            "creating build\n",
            "creating build/lib\n",
            "creating build/lib/stable_baselines3\n",
            "copying stable_baselines3/__init__.py -> build/lib/stable_baselines3\n",
            "creating build/lib/stable_baselines3/sac\n",
            "copying stable_baselines3/sac/policies.py -> build/lib/stable_baselines3/sac\n",
            "copying stable_baselines3/sac/sac.py -> build/lib/stable_baselines3/sac\n",
            "copying stable_baselines3/sac/__init__.py -> build/lib/stable_baselines3/sac\n",
            "creating build/lib/stable_baselines3/common\n",
            "copying stable_baselines3/common/base_class.py -> build/lib/stable_baselines3/common\n",
            "copying stable_baselines3/common/callbacks.py -> build/lib/stable_baselines3/common\n",
            "copying stable_baselines3/common/evaluation.py -> build/lib/stable_baselines3/common\n",
            "copying stable_baselines3/common/noise.py -> build/lib/stable_baselines3/common\n",
            "copying stable_baselines3/common/off_policy_algorithm.py -> build/lib/stable_baselines3/common\n",
            "copying stable_baselines3/common/on_policy_algorithm.py -> build/lib/stable_baselines3/common\n",
            "copying stable_baselines3/common/save_util.py -> build/lib/stable_baselines3/common\n",
            "copying stable_baselines3/common/env_checker.py -> build/lib/stable_baselines3/common\n",
            "copying stable_baselines3/common/distributions.py -> build/lib/stable_baselines3/common\n",
            "copying stable_baselines3/common/running_mean_std.py -> build/lib/stable_baselines3/common\n",
            "copying stable_baselines3/common/policies.py -> build/lib/stable_baselines3/common\n",
            "copying stable_baselines3/common/buffers.py -> build/lib/stable_baselines3/common\n",
            "copying stable_baselines3/common/monitor.py -> build/lib/stable_baselines3/common\n",
            "copying stable_baselines3/common/utils.py -> build/lib/stable_baselines3/common\n",
            "copying stable_baselines3/common/env_util.py -> build/lib/stable_baselines3/common\n",
            "copying stable_baselines3/common/type_aliases.py -> build/lib/stable_baselines3/common\n",
            "copying stable_baselines3/common/results_plotter.py -> build/lib/stable_baselines3/common\n",
            "copying stable_baselines3/common/preprocessing.py -> build/lib/stable_baselines3/common\n",
            "copying stable_baselines3/common/logger.py -> build/lib/stable_baselines3/common\n",
            "copying stable_baselines3/common/__init__.py -> build/lib/stable_baselines3/common\n",
            "copying stable_baselines3/common/atari_wrappers.py -> build/lib/stable_baselines3/common\n",
            "copying stable_baselines3/common/torch_layers.py -> build/lib/stable_baselines3/common\n",
            "creating build/lib/stable_baselines3/a2c\n",
            "copying stable_baselines3/a2c/policies.py -> build/lib/stable_baselines3/a2c\n",
            "copying stable_baselines3/a2c/a2c.py -> build/lib/stable_baselines3/a2c\n",
            "copying stable_baselines3/a2c/__init__.py -> build/lib/stable_baselines3/a2c\n",
            "creating build/lib/stable_baselines3/td3\n",
            "copying stable_baselines3/td3/policies.py -> build/lib/stable_baselines3/td3\n",
            "copying stable_baselines3/td3/__init__.py -> build/lib/stable_baselines3/td3\n",
            "copying stable_baselines3/td3/td3.py -> build/lib/stable_baselines3/td3\n",
            "creating build/lib/stable_baselines3/ddpg\n",
            "copying stable_baselines3/ddpg/ddpg.py -> build/lib/stable_baselines3/ddpg\n",
            "copying stable_baselines3/ddpg/policies.py -> build/lib/stable_baselines3/ddpg\n",
            "copying stable_baselines3/ddpg/__init__.py -> build/lib/stable_baselines3/ddpg\n",
            "creating build/lib/stable_baselines3/ppo\n",
            "copying stable_baselines3/ppo/ppo.py -> build/lib/stable_baselines3/ppo\n",
            "copying stable_baselines3/ppo/policies.py -> build/lib/stable_baselines3/ppo\n",
            "copying stable_baselines3/ppo/__init__.py -> build/lib/stable_baselines3/ppo\n",
            "creating build/lib/stable_baselines3/dqn\n",
            "copying stable_baselines3/dqn/dqn.py -> build/lib/stable_baselines3/dqn\n",
            "copying stable_baselines3/dqn/policies.py -> build/lib/stable_baselines3/dqn\n",
            "copying stable_baselines3/dqn/__init__.py -> build/lib/stable_baselines3/dqn\n",
            "creating build/lib/stable_baselines3/her\n",
            "copying stable_baselines3/her/her_replay_buffer.py -> build/lib/stable_baselines3/her\n",
            "copying stable_baselines3/her/__init__.py -> build/lib/stable_baselines3/her\n",
            "copying stable_baselines3/her/goal_selection_strategy.py -> build/lib/stable_baselines3/her\n",
            "creating build/lib/stable_baselines3/common/sb2_compat\n",
            "copying stable_baselines3/common/sb2_compat/rmsprop_tf_like.py -> build/lib/stable_baselines3/common/sb2_compat\n",
            "copying stable_baselines3/common/sb2_compat/__init__.py -> build/lib/stable_baselines3/common/sb2_compat\n",
            "creating build/lib/stable_baselines3/common/vec_env\n",
            "copying stable_baselines3/common/vec_env/vec_check_nan.py -> build/lib/stable_baselines3/common/vec_env\n",
            "copying stable_baselines3/common/vec_env/vec_frame_stack.py -> build/lib/stable_baselines3/common/vec_env\n",
            "copying stable_baselines3/common/vec_env/util.py -> build/lib/stable_baselines3/common/vec_env\n",
            "copying stable_baselines3/common/vec_env/vec_normalize.py -> build/lib/stable_baselines3/common/vec_env\n",
            "copying stable_baselines3/common/vec_env/base_vec_env.py -> build/lib/stable_baselines3/common/vec_env\n",
            "copying stable_baselines3/common/vec_env/vec_transpose.py -> build/lib/stable_baselines3/common/vec_env\n",
            "copying stable_baselines3/common/vec_env/stacked_observations.py -> build/lib/stable_baselines3/common/vec_env\n",
            "copying stable_baselines3/common/vec_env/vec_extract_dict_obs.py -> build/lib/stable_baselines3/common/vec_env\n",
            "copying stable_baselines3/common/vec_env/vec_video_recorder.py -> build/lib/stable_baselines3/common/vec_env\n",
            "copying stable_baselines3/common/vec_env/__init__.py -> build/lib/stable_baselines3/common/vec_env\n",
            "copying stable_baselines3/common/vec_env/dummy_vec_env.py -> build/lib/stable_baselines3/common/vec_env\n",
            "copying stable_baselines3/common/vec_env/vec_monitor.py -> build/lib/stable_baselines3/common/vec_env\n",
            "copying stable_baselines3/common/vec_env/subproc_vec_env.py -> build/lib/stable_baselines3/common/vec_env\n",
            "creating build/lib/stable_baselines3/common/envs\n",
            "copying stable_baselines3/common/envs/bit_flipping_env.py -> build/lib/stable_baselines3/common/envs\n",
            "copying stable_baselines3/common/envs/identity_env.py -> build/lib/stable_baselines3/common/envs\n",
            "copying stable_baselines3/common/envs/multi_input_envs.py -> build/lib/stable_baselines3/common/envs\n",
            "copying stable_baselines3/common/envs/__init__.py -> build/lib/stable_baselines3/common/envs\n",
            "copying stable_baselines3/py.typed -> build/lib/stable_baselines3\n",
            "copying stable_baselines3/version.txt -> build/lib/stable_baselines3\n",
            "creating build/bdist.linux-x86_64\n",
            "creating build/bdist.linux-x86_64/egg\n",
            "creating build/bdist.linux-x86_64/egg/stable_baselines3\n",
            "creating build/bdist.linux-x86_64/egg/stable_baselines3/sac\n",
            "copying build/lib/stable_baselines3/sac/policies.py -> build/bdist.linux-x86_64/egg/stable_baselines3/sac\n",
            "copying build/lib/stable_baselines3/sac/sac.py -> build/bdist.linux-x86_64/egg/stable_baselines3/sac\n",
            "copying build/lib/stable_baselines3/sac/__init__.py -> build/bdist.linux-x86_64/egg/stable_baselines3/sac\n",
            "creating build/bdist.linux-x86_64/egg/stable_baselines3/common\n",
            "copying build/lib/stable_baselines3/common/base_class.py -> build/bdist.linux-x86_64/egg/stable_baselines3/common\n",
            "copying build/lib/stable_baselines3/common/callbacks.py -> build/bdist.linux-x86_64/egg/stable_baselines3/common\n",
            "copying build/lib/stable_baselines3/common/evaluation.py -> build/bdist.linux-x86_64/egg/stable_baselines3/common\n",
            "copying build/lib/stable_baselines3/common/noise.py -> build/bdist.linux-x86_64/egg/stable_baselines3/common\n",
            "creating build/bdist.linux-x86_64/egg/stable_baselines3/common/sb2_compat\n",
            "copying build/lib/stable_baselines3/common/sb2_compat/rmsprop_tf_like.py -> build/bdist.linux-x86_64/egg/stable_baselines3/common/sb2_compat\n",
            "copying build/lib/stable_baselines3/common/sb2_compat/__init__.py -> build/bdist.linux-x86_64/egg/stable_baselines3/common/sb2_compat\n",
            "copying build/lib/stable_baselines3/common/off_policy_algorithm.py -> build/bdist.linux-x86_64/egg/stable_baselines3/common\n",
            "copying build/lib/stable_baselines3/common/on_policy_algorithm.py -> build/bdist.linux-x86_64/egg/stable_baselines3/common\n",
            "copying build/lib/stable_baselines3/common/save_util.py -> build/bdist.linux-x86_64/egg/stable_baselines3/common\n",
            "copying build/lib/stable_baselines3/common/env_checker.py -> build/bdist.linux-x86_64/egg/stable_baselines3/common\n",
            "copying build/lib/stable_baselines3/common/distributions.py -> build/bdist.linux-x86_64/egg/stable_baselines3/common\n",
            "copying build/lib/stable_baselines3/common/running_mean_std.py -> build/bdist.linux-x86_64/egg/stable_baselines3/common\n",
            "copying build/lib/stable_baselines3/common/policies.py -> build/bdist.linux-x86_64/egg/stable_baselines3/common\n",
            "copying build/lib/stable_baselines3/common/buffers.py -> build/bdist.linux-x86_64/egg/stable_baselines3/common\n",
            "creating build/bdist.linux-x86_64/egg/stable_baselines3/common/vec_env\n",
            "copying build/lib/stable_baselines3/common/vec_env/vec_check_nan.py -> build/bdist.linux-x86_64/egg/stable_baselines3/common/vec_env\n",
            "copying build/lib/stable_baselines3/common/vec_env/vec_frame_stack.py -> build/bdist.linux-x86_64/egg/stable_baselines3/common/vec_env\n",
            "copying build/lib/stable_baselines3/common/vec_env/util.py -> build/bdist.linux-x86_64/egg/stable_baselines3/common/vec_env\n",
            "copying build/lib/stable_baselines3/common/vec_env/vec_normalize.py -> build/bdist.linux-x86_64/egg/stable_baselines3/common/vec_env\n",
            "copying build/lib/stable_baselines3/common/vec_env/base_vec_env.py -> build/bdist.linux-x86_64/egg/stable_baselines3/common/vec_env\n",
            "copying build/lib/stable_baselines3/common/vec_env/vec_transpose.py -> build/bdist.linux-x86_64/egg/stable_baselines3/common/vec_env\n",
            "copying build/lib/stable_baselines3/common/vec_env/stacked_observations.py -> build/bdist.linux-x86_64/egg/stable_baselines3/common/vec_env\n",
            "copying build/lib/stable_baselines3/common/vec_env/vec_extract_dict_obs.py -> build/bdist.linux-x86_64/egg/stable_baselines3/common/vec_env\n",
            "copying build/lib/stable_baselines3/common/vec_env/vec_video_recorder.py -> build/bdist.linux-x86_64/egg/stable_baselines3/common/vec_env\n",
            "copying build/lib/stable_baselines3/common/vec_env/__init__.py -> build/bdist.linux-x86_64/egg/stable_baselines3/common/vec_env\n",
            "copying build/lib/stable_baselines3/common/vec_env/dummy_vec_env.py -> build/bdist.linux-x86_64/egg/stable_baselines3/common/vec_env\n",
            "copying build/lib/stable_baselines3/common/vec_env/vec_monitor.py -> build/bdist.linux-x86_64/egg/stable_baselines3/common/vec_env\n",
            "copying build/lib/stable_baselines3/common/vec_env/subproc_vec_env.py -> build/bdist.linux-x86_64/egg/stable_baselines3/common/vec_env\n",
            "copying build/lib/stable_baselines3/common/monitor.py -> build/bdist.linux-x86_64/egg/stable_baselines3/common\n",
            "copying build/lib/stable_baselines3/common/utils.py -> build/bdist.linux-x86_64/egg/stable_baselines3/common\n",
            "creating build/bdist.linux-x86_64/egg/stable_baselines3/common/envs\n",
            "copying build/lib/stable_baselines3/common/envs/bit_flipping_env.py -> build/bdist.linux-x86_64/egg/stable_baselines3/common/envs\n",
            "copying build/lib/stable_baselines3/common/envs/identity_env.py -> build/bdist.linux-x86_64/egg/stable_baselines3/common/envs\n",
            "copying build/lib/stable_baselines3/common/envs/multi_input_envs.py -> build/bdist.linux-x86_64/egg/stable_baselines3/common/envs\n",
            "copying build/lib/stable_baselines3/common/envs/__init__.py -> build/bdist.linux-x86_64/egg/stable_baselines3/common/envs\n",
            "copying build/lib/stable_baselines3/common/env_util.py -> build/bdist.linux-x86_64/egg/stable_baselines3/common\n",
            "copying build/lib/stable_baselines3/common/type_aliases.py -> build/bdist.linux-x86_64/egg/stable_baselines3/common\n",
            "copying build/lib/stable_baselines3/common/results_plotter.py -> build/bdist.linux-x86_64/egg/stable_baselines3/common\n",
            "copying build/lib/stable_baselines3/common/preprocessing.py -> build/bdist.linux-x86_64/egg/stable_baselines3/common\n",
            "copying build/lib/stable_baselines3/common/logger.py -> build/bdist.linux-x86_64/egg/stable_baselines3/common\n",
            "copying build/lib/stable_baselines3/common/__init__.py -> build/bdist.linux-x86_64/egg/stable_baselines3/common\n",
            "copying build/lib/stable_baselines3/common/atari_wrappers.py -> build/bdist.linux-x86_64/egg/stable_baselines3/common\n",
            "copying build/lib/stable_baselines3/common/torch_layers.py -> build/bdist.linux-x86_64/egg/stable_baselines3/common\n",
            "copying build/lib/stable_baselines3/version.txt -> build/bdist.linux-x86_64/egg/stable_baselines3\n",
            "creating build/bdist.linux-x86_64/egg/stable_baselines3/a2c\n",
            "copying build/lib/stable_baselines3/a2c/policies.py -> build/bdist.linux-x86_64/egg/stable_baselines3/a2c\n",
            "copying build/lib/stable_baselines3/a2c/a2c.py -> build/bdist.linux-x86_64/egg/stable_baselines3/a2c\n",
            "copying build/lib/stable_baselines3/a2c/__init__.py -> build/bdist.linux-x86_64/egg/stable_baselines3/a2c\n",
            "creating build/bdist.linux-x86_64/egg/stable_baselines3/td3\n",
            "copying build/lib/stable_baselines3/td3/policies.py -> build/bdist.linux-x86_64/egg/stable_baselines3/td3\n",
            "copying build/lib/stable_baselines3/td3/__init__.py -> build/bdist.linux-x86_64/egg/stable_baselines3/td3\n",
            "copying build/lib/stable_baselines3/td3/td3.py -> build/bdist.linux-x86_64/egg/stable_baselines3/td3\n",
            "creating build/bdist.linux-x86_64/egg/stable_baselines3/ddpg\n",
            "copying build/lib/stable_baselines3/ddpg/ddpg.py -> build/bdist.linux-x86_64/egg/stable_baselines3/ddpg\n",
            "copying build/lib/stable_baselines3/ddpg/policies.py -> build/bdist.linux-x86_64/egg/stable_baselines3/ddpg\n",
            "copying build/lib/stable_baselines3/ddpg/__init__.py -> build/bdist.linux-x86_64/egg/stable_baselines3/ddpg\n",
            "creating build/bdist.linux-x86_64/egg/stable_baselines3/ppo\n",
            "copying build/lib/stable_baselines3/ppo/ppo.py -> build/bdist.linux-x86_64/egg/stable_baselines3/ppo\n",
            "copying build/lib/stable_baselines3/ppo/policies.py -> build/bdist.linux-x86_64/egg/stable_baselines3/ppo\n",
            "copying build/lib/stable_baselines3/ppo/__init__.py -> build/bdist.linux-x86_64/egg/stable_baselines3/ppo\n",
            "copying build/lib/stable_baselines3/__init__.py -> build/bdist.linux-x86_64/egg/stable_baselines3\n",
            "copying build/lib/stable_baselines3/py.typed -> build/bdist.linux-x86_64/egg/stable_baselines3\n",
            "creating build/bdist.linux-x86_64/egg/stable_baselines3/dqn\n",
            "copying build/lib/stable_baselines3/dqn/dqn.py -> build/bdist.linux-x86_64/egg/stable_baselines3/dqn\n",
            "copying build/lib/stable_baselines3/dqn/policies.py -> build/bdist.linux-x86_64/egg/stable_baselines3/dqn\n",
            "copying build/lib/stable_baselines3/dqn/__init__.py -> build/bdist.linux-x86_64/egg/stable_baselines3/dqn\n",
            "creating build/bdist.linux-x86_64/egg/stable_baselines3/her\n",
            "copying build/lib/stable_baselines3/her/her_replay_buffer.py -> build/bdist.linux-x86_64/egg/stable_baselines3/her\n",
            "copying build/lib/stable_baselines3/her/__init__.py -> build/bdist.linux-x86_64/egg/stable_baselines3/her\n",
            "copying build/lib/stable_baselines3/her/goal_selection_strategy.py -> build/bdist.linux-x86_64/egg/stable_baselines3/her\n",
            "byte-compiling build/bdist.linux-x86_64/egg/stable_baselines3/sac/policies.py to policies.cpython-39.pyc\n",
            "byte-compiling build/bdist.linux-x86_64/egg/stable_baselines3/sac/sac.py to sac.cpython-39.pyc\n",
            "byte-compiling build/bdist.linux-x86_64/egg/stable_baselines3/sac/__init__.py to __init__.cpython-39.pyc\n",
            "byte-compiling build/bdist.linux-x86_64/egg/stable_baselines3/common/base_class.py to base_class.cpython-39.pyc\n",
            "byte-compiling build/bdist.linux-x86_64/egg/stable_baselines3/common/callbacks.py to callbacks.cpython-39.pyc\n",
            "byte-compiling build/bdist.linux-x86_64/egg/stable_baselines3/common/evaluation.py to evaluation.cpython-39.pyc\n",
            "byte-compiling build/bdist.linux-x86_64/egg/stable_baselines3/common/noise.py to noise.cpython-39.pyc\n",
            "byte-compiling build/bdist.linux-x86_64/egg/stable_baselines3/common/sb2_compat/rmsprop_tf_like.py to rmsprop_tf_like.cpython-39.pyc\n",
            "byte-compiling build/bdist.linux-x86_64/egg/stable_baselines3/common/sb2_compat/__init__.py to __init__.cpython-39.pyc\n",
            "byte-compiling build/bdist.linux-x86_64/egg/stable_baselines3/common/off_policy_algorithm.py to off_policy_algorithm.cpython-39.pyc\n",
            "byte-compiling build/bdist.linux-x86_64/egg/stable_baselines3/common/on_policy_algorithm.py to on_policy_algorithm.cpython-39.pyc\n",
            "byte-compiling build/bdist.linux-x86_64/egg/stable_baselines3/common/save_util.py to save_util.cpython-39.pyc\n",
            "byte-compiling build/bdist.linux-x86_64/egg/stable_baselines3/common/env_checker.py to env_checker.cpython-39.pyc\n",
            "byte-compiling build/bdist.linux-x86_64/egg/stable_baselines3/common/distributions.py to distributions.cpython-39.pyc\n",
            "byte-compiling build/bdist.linux-x86_64/egg/stable_baselines3/common/running_mean_std.py to running_mean_std.cpython-39.pyc\n",
            "byte-compiling build/bdist.linux-x86_64/egg/stable_baselines3/common/policies.py to policies.cpython-39.pyc\n",
            "byte-compiling build/bdist.linux-x86_64/egg/stable_baselines3/common/buffers.py to buffers.cpython-39.pyc\n",
            "byte-compiling build/bdist.linux-x86_64/egg/stable_baselines3/common/vec_env/vec_check_nan.py to vec_check_nan.cpython-39.pyc\n",
            "byte-compiling build/bdist.linux-x86_64/egg/stable_baselines3/common/vec_env/vec_frame_stack.py to vec_frame_stack.cpython-39.pyc\n",
            "byte-compiling build/bdist.linux-x86_64/egg/stable_baselines3/common/vec_env/util.py to util.cpython-39.pyc\n",
            "byte-compiling build/bdist.linux-x86_64/egg/stable_baselines3/common/vec_env/vec_normalize.py to vec_normalize.cpython-39.pyc\n",
            "byte-compiling build/bdist.linux-x86_64/egg/stable_baselines3/common/vec_env/base_vec_env.py to base_vec_env.cpython-39.pyc\n",
            "byte-compiling build/bdist.linux-x86_64/egg/stable_baselines3/common/vec_env/vec_transpose.py to vec_transpose.cpython-39.pyc\n",
            "byte-compiling build/bdist.linux-x86_64/egg/stable_baselines3/common/vec_env/stacked_observations.py to stacked_observations.cpython-39.pyc\n",
            "byte-compiling build/bdist.linux-x86_64/egg/stable_baselines3/common/vec_env/vec_extract_dict_obs.py to vec_extract_dict_obs.cpython-39.pyc\n",
            "byte-compiling build/bdist.linux-x86_64/egg/stable_baselines3/common/vec_env/vec_video_recorder.py to vec_video_recorder.cpython-39.pyc\n",
            "byte-compiling build/bdist.linux-x86_64/egg/stable_baselines3/common/vec_env/__init__.py to __init__.cpython-39.pyc\n",
            "byte-compiling build/bdist.linux-x86_64/egg/stable_baselines3/common/vec_env/dummy_vec_env.py to dummy_vec_env.cpython-39.pyc\n",
            "byte-compiling build/bdist.linux-x86_64/egg/stable_baselines3/common/vec_env/vec_monitor.py to vec_monitor.cpython-39.pyc\n",
            "byte-compiling build/bdist.linux-x86_64/egg/stable_baselines3/common/vec_env/subproc_vec_env.py to subproc_vec_env.cpython-39.pyc\n",
            "byte-compiling build/bdist.linux-x86_64/egg/stable_baselines3/common/monitor.py to monitor.cpython-39.pyc\n",
            "byte-compiling build/bdist.linux-x86_64/egg/stable_baselines3/common/utils.py to utils.cpython-39.pyc\n",
            "byte-compiling build/bdist.linux-x86_64/egg/stable_baselines3/common/envs/bit_flipping_env.py to bit_flipping_env.cpython-39.pyc\n",
            "byte-compiling build/bdist.linux-x86_64/egg/stable_baselines3/common/envs/identity_env.py to identity_env.cpython-39.pyc\n",
            "byte-compiling build/bdist.linux-x86_64/egg/stable_baselines3/common/envs/multi_input_envs.py to multi_input_envs.cpython-39.pyc\n",
            "byte-compiling build/bdist.linux-x86_64/egg/stable_baselines3/common/envs/__init__.py to __init__.cpython-39.pyc\n",
            "byte-compiling build/bdist.linux-x86_64/egg/stable_baselines3/common/env_util.py to env_util.cpython-39.pyc\n",
            "byte-compiling build/bdist.linux-x86_64/egg/stable_baselines3/common/type_aliases.py to type_aliases.cpython-39.pyc\n",
            "byte-compiling build/bdist.linux-x86_64/egg/stable_baselines3/common/results_plotter.py to results_plotter.cpython-39.pyc\n",
            "byte-compiling build/bdist.linux-x86_64/egg/stable_baselines3/common/preprocessing.py to preprocessing.cpython-39.pyc\n",
            "byte-compiling build/bdist.linux-x86_64/egg/stable_baselines3/common/logger.py to logger.cpython-39.pyc\n",
            "byte-compiling build/bdist.linux-x86_64/egg/stable_baselines3/common/__init__.py to __init__.cpython-39.pyc\n",
            "byte-compiling build/bdist.linux-x86_64/egg/stable_baselines3/common/atari_wrappers.py to atari_wrappers.cpython-39.pyc\n",
            "byte-compiling build/bdist.linux-x86_64/egg/stable_baselines3/common/torch_layers.py to torch_layers.cpython-39.pyc\n",
            "byte-compiling build/bdist.linux-x86_64/egg/stable_baselines3/a2c/policies.py to policies.cpython-39.pyc\n",
            "byte-compiling build/bdist.linux-x86_64/egg/stable_baselines3/a2c/a2c.py to a2c.cpython-39.pyc\n",
            "byte-compiling build/bdist.linux-x86_64/egg/stable_baselines3/a2c/__init__.py to __init__.cpython-39.pyc\n",
            "byte-compiling build/bdist.linux-x86_64/egg/stable_baselines3/td3/policies.py to policies.cpython-39.pyc\n",
            "byte-compiling build/bdist.linux-x86_64/egg/stable_baselines3/td3/__init__.py to __init__.cpython-39.pyc\n",
            "byte-compiling build/bdist.linux-x86_64/egg/stable_baselines3/td3/td3.py to td3.cpython-39.pyc\n",
            "byte-compiling build/bdist.linux-x86_64/egg/stable_baselines3/ddpg/ddpg.py to ddpg.cpython-39.pyc\n",
            "byte-compiling build/bdist.linux-x86_64/egg/stable_baselines3/ddpg/policies.py to policies.cpython-39.pyc\n",
            "byte-compiling build/bdist.linux-x86_64/egg/stable_baselines3/ddpg/__init__.py to __init__.cpython-39.pyc\n",
            "byte-compiling build/bdist.linux-x86_64/egg/stable_baselines3/ppo/ppo.py to ppo.cpython-39.pyc\n",
            "byte-compiling build/bdist.linux-x86_64/egg/stable_baselines3/ppo/policies.py to policies.cpython-39.pyc\n",
            "byte-compiling build/bdist.linux-x86_64/egg/stable_baselines3/ppo/__init__.py to __init__.cpython-39.pyc\n",
            "byte-compiling build/bdist.linux-x86_64/egg/stable_baselines3/__init__.py to __init__.cpython-39.pyc\n",
            "byte-compiling build/bdist.linux-x86_64/egg/stable_baselines3/dqn/dqn.py to dqn.cpython-39.pyc\n",
            "byte-compiling build/bdist.linux-x86_64/egg/stable_baselines3/dqn/policies.py to policies.cpython-39.pyc\n",
            "byte-compiling build/bdist.linux-x86_64/egg/stable_baselines3/dqn/__init__.py to __init__.cpython-39.pyc\n",
            "byte-compiling build/bdist.linux-x86_64/egg/stable_baselines3/her/her_replay_buffer.py to her_replay_buffer.cpython-39.pyc\n",
            "byte-compiling build/bdist.linux-x86_64/egg/stable_baselines3/her/__init__.py to __init__.cpython-39.pyc\n",
            "byte-compiling build/bdist.linux-x86_64/egg/stable_baselines3/her/goal_selection_strategy.py to goal_selection_strategy.cpython-39.pyc\n",
            "creating build/bdist.linux-x86_64/egg/EGG-INFO\n",
            "copying stable_baselines3.egg-info/PKG-INFO -> build/bdist.linux-x86_64/egg/EGG-INFO\n",
            "copying stable_baselines3.egg-info/SOURCES.txt -> build/bdist.linux-x86_64/egg/EGG-INFO\n",
            "copying stable_baselines3.egg-info/dependency_links.txt -> build/bdist.linux-x86_64/egg/EGG-INFO\n",
            "copying stable_baselines3.egg-info/requires.txt -> build/bdist.linux-x86_64/egg/EGG-INFO\n",
            "copying stable_baselines3.egg-info/top_level.txt -> build/bdist.linux-x86_64/egg/EGG-INFO\n",
            "zip_safe flag not set; analyzing archive contents...\n",
            "stable_baselines3.__pycache__.__init__.cpython-39: module references __file__\n",
            "creating dist\n",
            "creating 'dist/stable_baselines3-1.8.0a10-py3.9.egg' and adding 'build/bdist.linux-x86_64/egg' to it\n",
            "removing 'build/bdist.linux-x86_64/egg' (and everything under it)\n",
            "Processing stable_baselines3-1.8.0a10-py3.9.egg\n",
            "removing '/usr/local/lib/python3.9/dist-packages/stable_baselines3-1.8.0a10-py3.9.egg' (and everything under it)\n",
            "creating /usr/local/lib/python3.9/dist-packages/stable_baselines3-1.8.0a10-py3.9.egg\n",
            "Extracting stable_baselines3-1.8.0a10-py3.9.egg to /usr/local/lib/python3.9/dist-packages\n",
            "stable-baselines3 1.8.0a10 is already the active version in easy-install.pth\n",
            "\n",
            "Installed /usr/local/lib/python3.9/dist-packages/stable_baselines3-1.8.0a10-py3.9.egg\n",
            "Processing dependencies for stable-baselines3==1.8.0a10\n",
            "Searching for gym==0.21\n",
            "Reading https://pypi.org/simple/gym/\n",
            "Downloading https://files.pythonhosted.org/packages/4b/48/920cea66177b865663fde5a9390a59de0ef3b642ad98106ac1d8717d7005/gym-0.21.0.tar.gz#sha256=0fd1ce165c754b4017e37a617b097c032b8c3feb8a0394ccc8777c7c50dddff3\n",
            "Best match: gym 0.21.0\n",
            "Processing gym-0.21.0.tar.gz\n",
            "Writing /tmp/easy_install-4red_1ts/gym-0.21.0/setup.cfg\n",
            "Running gym-0.21.0/setup.py -q bdist_egg --dist-dir /tmp/easy_install-4red_1ts/gym-0.21.0/egg-dist-tmp-cpjo5fg1\n",
            "error: Setup script exited with error in gym setup command: 'extras_require' must be a dictionary whose values are strings or lists of strings containing valid project/version requirement specifiers.\n"
          ]
        }
      ]
    },
    {
      "cell_type": "code",
      "source": [
        "!apt install swig cmake"
      ],
      "metadata": {
        "colab": {
          "base_uri": "https://localhost:8080/"
        },
        "id": "ZMAfMF_wu2HZ",
        "outputId": "b0a6a48d-c146-41e7-d1ea-7e3a9cec72b8"
      },
      "execution_count": 50,
      "outputs": [
        {
          "output_type": "stream",
          "name": "stdout",
          "text": [
            "Reading package lists... Done\n",
            "Building dependency tree       \n",
            "Reading state information... Done\n",
            "swig is already the newest version (4.0.1-5build1).\n",
            "cmake is already the newest version (3.16.3-1ubuntu1.20.04.1).\n",
            "0 upgraded, 0 newly installed, 0 to remove and 24 not upgraded.\n"
          ]
        }
      ]
    },
    {
      "cell_type": "code",
      "source": [
        "!pip install box2d-py"
      ],
      "metadata": {
        "colab": {
          "base_uri": "https://localhost:8080/"
        },
        "id": "6I9uqDAjvSgl",
        "outputId": "ae30456f-6b1d-4efa-8807-d619f83996d2"
      },
      "execution_count": 51,
      "outputs": [
        {
          "output_type": "stream",
          "name": "stdout",
          "text": [
            "Looking in indexes: https://pypi.org/simple, https://us-python.pkg.dev/colab-wheels/public/simple/\n",
            "Requirement already satisfied: box2d-py in /usr/local/lib/python3.9/dist-packages (2.3.5)\n",
            "\u001b[33mWARNING: Running pip as the 'root' user can result in broken permissions and conflicting behaviour with the system package manager. It is recommended to use a virtual environment instead: https://pip.pypa.io/warnings/venv\u001b[0m\u001b[33m\n",
            "\u001b[0m"
          ]
        }
      ]
    },
    {
      "cell_type": "code",
      "metadata": {
        "id": "U29X1-B-AIKE",
        "colab": {
          "base_uri": "https://localhost:8080/",
          "height": 35
        },
        "outputId": "0a9fc4cd-8bad-455c-bba5-9337c37ecaa6"
      },
      "source": [
        "import stable_baselines3\n",
        "stable_baselines3.__version__"
      ],
      "execution_count": 52,
      "outputs": [
        {
          "output_type": "execute_result",
          "data": {
            "text/plain": [
              "'1.8.0a10'"
            ],
            "application/vnd.google.colaboratory.intrinsic+json": {
              "type": "string"
            }
          },
          "metadata": {},
          "execution_count": 52
        }
      ]
    },
    {
      "cell_type": "markdown",
      "metadata": {
        "id": "xVm9QPNVwKXN"
      },
      "source": [
        "### Prepare video recording"
      ]
    },
    {
      "cell_type": "code",
      "metadata": {
        "id": "MPyfQxD5z26J"
      },
      "source": [
        "# Set up fake display; otherwise rendering will fail\n",
        "import os\n",
        "os.system(\"Xvfb :1 -screen 0 1024x768x24 &\")\n",
        "os.environ['DISPLAY'] = ':1'"
      ],
      "execution_count": 53,
      "outputs": []
    },
    {
      "cell_type": "code",
      "metadata": {
        "id": "SLzXxO8VMD6N"
      },
      "source": [
        "import base64\n",
        "from pathlib import Path\n",
        "\n",
        "from IPython import display as ipythondisplay\n",
        "\n",
        "\n",
        "def show_videos(video_path='', prefix=''):\n",
        "  \"\"\"\n",
        "  Taken from https://github.com/eleurent/highway-env\n",
        "\n",
        "  :param video_path: (str) Path to the folder containing videos\n",
        "  :param prefix: (str) Filter the video, showing only the only starting with this prefix\n",
        "  \"\"\"\n",
        "  html = []\n",
        "  for mp4 in Path(video_path).glob(\"{}*.mp4\".format(prefix)):\n",
        "      video_b64 = base64.b64encode(mp4.read_bytes())\n",
        "      html.append('''<video alt=\"{}\" autoplay \n",
        "                    loop controls style=\"height: 400px;\">\n",
        "                    <source src=\"data:video/mp4;base64,{}\" type=\"video/mp4\" />\n",
        "                </video>'''.format(mp4, video_b64.decode('ascii')))\n",
        "  ipythondisplay.display(ipythondisplay.HTML(data=\"<br>\".join(html)))"
      ],
      "execution_count": 67,
      "outputs": []
    },
    {
      "cell_type": "code",
      "metadata": {
        "id": "Trag9dQpOIhx"
      },
      "source": [
        "from stable_baselines3.common.vec_env import VecVideoRecorder, DummyVecEnv\n",
        "\n",
        "\n",
        "def record_video(env_id, model, video_length=500, prefix='', video_folder='videos/'):\n",
        "  \"\"\"\n",
        "  :param env_id: (str)\n",
        "  :param model: (RL model)\n",
        "  :param video_length: (int)\n",
        "  :param prefix: (str)\n",
        "  :param video_folder: (str)\n",
        "  \"\"\"\n",
        "  eval_env = DummyVecEnv([lambda: gym.make('LunarLander-v2')])\n",
        "  # Start the video at step=0 and record 500 steps\n",
        "  eval_env = VecVideoRecorder(eval_env, video_folder=video_folder,\n",
        "                              record_video_trigger=lambda step: step == 0, video_length=video_length,\n",
        "                              name_prefix=prefix)\n",
        "\n",
        "  obs = eval_env.reset()\n",
        "  for _ in range(video_length):\n",
        "    action, _ = model.predict(obs)\n",
        "    obs, _, _, _ = eval_env.step(action)\n",
        "\n",
        "  # Close the video recorder\n",
        "  eval_env.close()"
      ],
      "execution_count": 72,
      "outputs": []
    },
    {
      "cell_type": "markdown",
      "metadata": {
        "id": "FtY8FhliLsGm"
      },
      "source": [
        "## Imports"
      ]
    },
    {
      "cell_type": "markdown",
      "metadata": {
        "id": "gcX8hEcaUpR0"
      },
      "source": [
        "Stable-Baselines works on environments that follow the [gym interface](https://stable-baselines.readthedocs.io/en/master/guide/custom_env.html).\n",
        "You can find a list of available environment [here](https://gym.openai.com/envs/#classic_control).\n",
        "\n",
        "It is also recommended to check the [source code](https://github.com/openai/gym) to learn more about the observation and action space of each env, as gym does not have a proper documentation.\n",
        "Not all algorithms can work with all action spaces, you can find more in this [recap table](https://stable-baselines.readthedocs.io/en/master/guide/algos.html)"
      ]
    },
    {
      "cell_type": "code",
      "metadata": {
        "id": "BIedd7Pz9sOs"
      },
      "source": [
        "import gym\n",
        "import numpy as np\n",
        "from stable_baselines3.common.env_util import make_vec_env\n",
        "from stable_baselines3.common.vec_env import DummyVecEnv\n",
        "from stable_baselines3 import PPO\n",
        "from stable_baselines3.ppo import MlpPolicy"
      ],
      "execution_count": 56,
      "outputs": []
    },
    {
      "cell_type": "markdown",
      "source": [
        "## Understand what is Gym and how it works 🤖\n",
        "\n",
        "🏋 The library containing our environment is called Gym.\n",
        "**You'll use Gym a lot in Deep Reinforcement Learning.**\n",
        "\n",
        "The Gym library provides two things:\n",
        "- An interface that allows you to **create RL environments**.\n",
        "- A **collection of environments** (gym-control, atari, box2D...).\n",
        "\n",
        "Let's look at an example, but first let's remember what's the RL Loop.\n",
        "\n",
        "<img src=\"https://huggingface.co/datasets/huggingface-deep-rl-course/course-images/resolve/main/en/unit1/RL_process_game.jpg\" alt=\"The RL process\" width=\"100%\">"
      ],
      "metadata": {
        "id": "_Vx1S5uDI5i6"
      }
    },
    {
      "cell_type": "markdown",
      "source": [
        "At each step:\n",
        "- Our Agent receives **state S0** from the **Environment** — we receive the first frame of our game (Environment).\n",
        "- Based on that **state S0,** the Agent takes **action A0** — our Agent will move to the right.\n",
        "- Environment to a **new** **state S1** — new frame.\n",
        "- The environment gives some **reward R1** to the Agent — we’re not dead *(Positive Reward +1)*.\n",
        "\n",
        "\n",
        "With Gym:\n",
        "\n",
        "1️⃣ We create our environment using `gym.make()`\n",
        "\n",
        "2️⃣ We reset the environment to its initial state with `observation = env.reset()`\n",
        "\n",
        "At each step:\n",
        "\n",
        "3️⃣ Get an action using our model (in our example we take a random action)\n",
        "\n",
        "4️⃣ Using `env.step(action)`, we perform this action in the environment and get\n",
        "- `observation`: The new state (st+1)\n",
        "- `reward`: The reward we get after executing the action\n",
        "- `done`: Indicates if the episode terminated\n",
        "- `info`: A dictionary that provides additional information (depends on the environment).\n",
        "\n",
        "If the episode is done:\n",
        "- We reset the environment to its initial state with `observation = env.reset()`\n",
        "\n",
        "**Let's look at an example!** Make sure to read the code\n"
      ],
      "metadata": {
        "id": "25EC1R0dJDz9"
      }
    },
    {
      "cell_type": "code",
      "source": [
        "!pip install gym[box2d]"
      ],
      "metadata": {
        "colab": {
          "base_uri": "https://localhost:8080/"
        },
        "id": "g4yyE6t_1pGU",
        "outputId": "035ff404-fa9f-4ef4-a460-0582146a61c9"
      },
      "execution_count": 57,
      "outputs": [
        {
          "output_type": "stream",
          "name": "stdout",
          "text": [
            "Looking in indexes: https://pypi.org/simple, https://us-python.pkg.dev/colab-wheels/public/simple/\n",
            "Requirement already satisfied: gym[box2d] in /usr/local/lib/python3.9/dist-packages (0.25.2)\n",
            "Requirement already satisfied: cloudpickle>=1.2.0 in /usr/local/lib/python3.9/dist-packages (from gym[box2d]) (2.2.1)\n",
            "Requirement already satisfied: importlib-metadata>=4.8.0 in /usr/local/lib/python3.9/dist-packages (from gym[box2d]) (6.1.0)\n",
            "Requirement already satisfied: gym-notices>=0.0.4 in /usr/local/lib/python3.9/dist-packages (from gym[box2d]) (0.0.8)\n",
            "Requirement already satisfied: numpy>=1.18.0 in /usr/local/lib/python3.9/dist-packages (from gym[box2d]) (1.22.4)\n",
            "Requirement already satisfied: swig==4.* in /usr/local/lib/python3.9/dist-packages (from gym[box2d]) (4.1.1)\n",
            "Requirement already satisfied: pygame==2.1.0 in /usr/local/lib/python3.9/dist-packages (from gym[box2d]) (2.1.0)\n",
            "Requirement already satisfied: box2d-py==2.3.5 in /usr/local/lib/python3.9/dist-packages (from gym[box2d]) (2.3.5)\n",
            "Requirement already satisfied: zipp>=0.5 in /usr/local/lib/python3.9/dist-packages (from importlib-metadata>=4.8.0->gym[box2d]) (3.15.0)\n",
            "\u001b[33mWARNING: Running pip as the 'root' user can result in broken permissions and conflicting behaviour with the system package manager. It is recommended to use a virtual environment instead: https://pip.pypa.io/warnings/venv\u001b[0m\u001b[33m\n",
            "\u001b[0m"
          ]
        }
      ]
    },
    {
      "cell_type": "code",
      "metadata": {
        "id": "pUWGZp3i9wyf",
        "colab": {
          "base_uri": "https://localhost:8080/"
        },
        "outputId": "51a2e8f3-0796-408b-bd48-c5c43417435c"
      },
      "source": [
        "# First, we create our environment called LunarLander-v2\n",
        "env = gym.make(\"LunarLander-v2\")\n",
        "\n",
        "# Then we reset this environment\n",
        "observation = env.reset()\n",
        "\n",
        "for _ in range(20):\n",
        "  # Take a random action\n",
        "  action = env.action_space.sample()\n",
        "  print(\"Action taken:\", action)\n",
        "\n",
        "  # Do this action in the environment and get\n",
        "  # next_state, reward, done and info\n",
        "  observation, reward, done, info = env.step(action)\n",
        "  \n",
        "  # If the game is done (in our case we land, crashed or timeout)\n",
        "  if done:\n",
        "      # Reset the environment\n",
        "      print(\"Environment is reset\")\n",
        "      observation = env.reset()\n"
      ],
      "execution_count": 58,
      "outputs": [
        {
          "output_type": "stream",
          "name": "stdout",
          "text": [
            "Action taken: 0\n",
            "Action taken: 1\n",
            "Action taken: 0\n",
            "Action taken: 1\n",
            "Action taken: 3\n",
            "Action taken: 2\n",
            "Action taken: 0\n",
            "Action taken: 0\n",
            "Action taken: 1\n",
            "Action taken: 2\n",
            "Action taken: 1\n",
            "Action taken: 2\n",
            "Action taken: 0\n",
            "Action taken: 0\n",
            "Action taken: 0\n",
            "Action taken: 1\n",
            "Action taken: 1\n",
            "Action taken: 1\n",
            "Action taken: 0\n",
            "Action taken: 0\n"
          ]
        }
      ]
    },
    {
      "cell_type": "markdown",
      "source": [
        "Above you can see printed which movement decision our lunarlander took each step for 20 steps ! For now its pretty random."
      ],
      "metadata": {
        "id": "8gFFD_MDJSgz"
      }
    },
    {
      "cell_type": "markdown",
      "source": [
        "Now let's see what the Environment looks like:\n"
      ],
      "metadata": {
        "id": "xNOHof4BJ3NR"
      }
    },
    {
      "cell_type": "code",
      "source": [
        "# We create our environment with gym.make(\"<name_of_the_environment>\")\n",
        "env = gym.make(\"LunarLander-v2\")\n",
        "env.reset()\n",
        "print(\"_____OBSERVATION SPACE_____ \\n\")\n",
        "print(\"Observation Space Shape\", env.observation_space.shape)\n",
        "print(\"Sample observation\", env.observation_space.sample()) # Get a random observation"
      ],
      "metadata": {
        "colab": {
          "base_uri": "https://localhost:8080/"
        },
        "id": "gZq006OqGZyI",
        "outputId": "b2b73c2d-d71f-4ed1-b77a-3fa510c7c1be"
      },
      "execution_count": 59,
      "outputs": [
        {
          "output_type": "stream",
          "name": "stdout",
          "text": [
            "_____OBSERVATION SPACE_____ \n",
            "\n",
            "Observation Space Shape (8,)\n",
            "Sample observation [-0.53606576 -0.16713592 -2.0884585  -2.7886248  -1.9939355  -4.583172\n",
            "  0.7142434   0.97671515]\n"
          ]
        }
      ]
    },
    {
      "cell_type": "markdown",
      "source": [
        "We see with `Observation Space Shape (8,)` that the observation is a vector of size 8, where each value contains different information about the lander:\n",
        "- Horizontal pad coordinate (x)\n",
        "- Vertical pad coordinate (y)\n",
        "- Horizontal speed (x)\n",
        "- Vertical speed (y)\n",
        "- Angle\n",
        "- Angular speed\n",
        "- If the left leg has contact point touched the land\n",
        "- If the right leg has contact point touched the land\n"
      ],
      "metadata": {
        "id": "iMPHP1BnGhpS"
      }
    },
    {
      "cell_type": "code",
      "source": [
        "print(\"\\n _____ACTION SPACE_____ \\n\")\n",
        "print(\"Action Space Shape\", env.action_space.n)\n",
        "print(\"Action Space Sample\", env.action_space.sample()) # Take a random action"
      ],
      "metadata": {
        "colab": {
          "base_uri": "https://localhost:8080/"
        },
        "id": "Uqk1ZOvAHNCf",
        "outputId": "3f10589b-26e3-4438-da50-45bc0dec53c4"
      },
      "execution_count": 60,
      "outputs": [
        {
          "output_type": "stream",
          "name": "stdout",
          "text": [
            "\n",
            " _____ACTION SPACE_____ \n",
            "\n",
            "Action Space Shape 4\n",
            "Action Space Sample 1\n"
          ]
        }
      ]
    },
    {
      "cell_type": "markdown",
      "source": [
        "The action space (the set of possible actions the agent can take) is discrete with 4 actions available 🎮: \n",
        "\n",
        "- Do nothing,\n",
        "- Fire left orientation engine,\n",
        "- Fire the main engine,\n",
        "- Fire right orientation engine.\n",
        "\n",
        "Reward function (the function that will gives a reward at each timestep) 💰:\n",
        "\n",
        "- Moving from the top of the screen to the landing pad and zero speed is about 100~140 points.\n",
        "- Firing main engine is -0.3 each frame\n",
        "- Each leg ground contact is +10 points\n",
        "- Episode finishes if the lander crashes (additional - 100 points) or come to rest (+100 points)"
      ],
      "metadata": {
        "id": "ngtT-zrxHVRE"
      }
    },
    {
      "cell_type": "markdown",
      "source": [
        "## Create the Model 🤖\n",
        "- Now that we studied our environment and we understood the problem: **being able to land correctly the Lunar Lander to the Landing Pad by controlling left, right and main orientation engine**. Let's build the algorithm we're going to use to solve this Problem 🚀.\n",
        "\n",
        "- To do so, we're going to use our first Deep RL library, [Stable Baselines3 (SB3)](https://stable-baselines3.readthedocs.io/en/master/).\n",
        "\n",
        "- SB3 is a set of **reliable implementations of reinforcement learning algorithms in PyTorch**.\n",
        "\n",
        "---\n",
        "\n",
        "💡 A good habit when using a new library is to dive first on the documentation: https://stable-baselines3.readthedocs.io/en/master/ and then try some tutorials.\n",
        "\n",
        "----"
      ],
      "metadata": {
        "id": "2zNui5StLQql"
      }
    },
    {
      "cell_type": "code",
      "source": [
        "# TODO: create a new environment for the creation of our model\n",
        "gym.make(\"LunarLander-v2\")"
      ],
      "metadata": {
        "id": "Q6JltU_Qrfjn",
        "colab": {
          "base_uri": "https://localhost:8080/"
        },
        "outputId": "a5b11831-a4d7-4aa5-f323-931674965be9"
      },
      "execution_count": 61,
      "outputs": [
        {
          "output_type": "execute_result",
          "data": {
            "text/plain": [
              "<TimeLimit<OrderEnforcing<StepAPICompatibility<PassiveEnvChecker<LunarLander<LunarLander-v2>>>>>>"
            ]
          },
          "metadata": {},
          "execution_count": 61
        }
      ]
    },
    {
      "cell_type": "markdown",
      "source": [
        "To solve this problem, we're going to use SB3 **PPO**. [PPO (aka Proximal Policy Optimization) is one of the of the SOTA (state of the art) Deep Reinforcement Learning algorithms](https://stable-baselines3.readthedocs.io/en/master/modules/ppo.html#example%5D).\n",
        "\n",
        "PPO is a combination of:\n",
        "- *Value-based reinforcement learning method*: learning an action-value function that will tell us what's the **most valuable action to take given a state and action**.\n",
        "- *Policy-based reinforcement learning method*: learning a policy that will **gives us a probability distribution over actions**.\n"
      ],
      "metadata": {
        "id": "xFT1DEuoLzXX"
      }
    },
    {
      "cell_type": "markdown",
      "source": [
        "Stable-Baselines3 is easy to set up:\n",
        "\n",
        "1️⃣ You **create your environment** (in our case it was done above)\n",
        "\n",
        "2️⃣ You define the **model you want to use and instantiate this model** `model = PPO(\"MlpPolicy\")`\n",
        "\n",
        "3️⃣ You **train the agent** with `model.learn` and define the number of training timesteps\n",
        "\n",
        "```\n",
        "# Create environment\n",
        "env = gym.make('LunarLander-v2')\n",
        "\n",
        "# Instantiate the agent\n",
        "model = PPO('MlpPolicy', env, verbose=1)\n",
        "# Train the agent\n",
        "model.learn(total_timesteps=int(2e5))\n",
        "```\n",
        "\n"
      ],
      "metadata": {
        "id": "C2AnVxWEMImv"
      }
    },
    {
      "cell_type": "code",
      "source": [
        "# TODO: Define a PPO MlpPolicy architecture\n",
        "model = PPO(\n",
        "    policy = 'MlpPolicy',\n",
        "    env = env,\n",
        "    n_steps = 1024,\n",
        "    batch_size = 64,\n",
        "    n_epochs = 4,\n",
        "    gamma = 0.999,\n",
        "    gae_lambda = 0.98,\n",
        "    ent_coef = 0.01,\n",
        "    verbose=1)"
      ],
      "metadata": {
        "colab": {
          "base_uri": "https://localhost:8080/"
        },
        "id": "Ly4XVltkMlB_",
        "outputId": "36d067cf-b004-4170-8585-5f5e784a3e87"
      },
      "execution_count": 62,
      "outputs": [
        {
          "output_type": "stream",
          "name": "stdout",
          "text": [
            "Using cuda device\n",
            "Wrapping the env with a `Monitor` wrapper\n",
            "Wrapping the env in a DummyVecEnv.\n"
          ]
        }
      ]
    },
    {
      "cell_type": "markdown",
      "source": [
        "## Train the PPO agent 🏃\n",
        "- Let's train our agent for 100 timesteps, don't forget to use GPU on Colab."
      ],
      "metadata": {
        "id": "s36F6HBkM9zE"
      }
    },
    {
      "cell_type": "code",
      "source": [
        "# TODO: Train it for 100 timesteps\n",
        "model.learn(total_timesteps=1000)\n",
        "# TODO: Specify file name for model and save the model to file\n",
        "model_name = \"ppo-LunarLander-v2\"\n",
        "model.save(model_name)"
      ],
      "metadata": {
        "colab": {
          "base_uri": "https://localhost:8080/"
        },
        "id": "uUBXbjhdNT1m",
        "outputId": "c459b0d7-db12-423d-8b4d-ef742a7bda84"
      },
      "execution_count": 63,
      "outputs": [
        {
          "output_type": "stream",
          "name": "stdout",
          "text": [
            "---------------------------------\n",
            "| rollout/           |          |\n",
            "|    ep_len_mean     | 91.3     |\n",
            "|    ep_rew_mean     | -214     |\n",
            "| time/              |          |\n",
            "|    fps             | 718      |\n",
            "|    iterations      | 1        |\n",
            "|    time_elapsed    | 1        |\n",
            "|    total_timesteps | 1024     |\n",
            "---------------------------------\n"
          ]
        }
      ]
    },
    {
      "cell_type": "markdown",
      "source": [
        "## Evaluate the agent 📈 \n",
        "- Now that our Lunar Lander agent is trained 🚀, we need to **check its performance**.\n",
        "- Stable-Baselines3 provides a method to do that: `evaluate_policy`.\n",
        "- To fill that part you need to [check the documentation](https://stable-baselines3.readthedocs.io/en/master/guide/examples.html#basic-usage-training-saving-loading)\n",
        "\n",
        "\n",
        "💡 When you evaluate your agent, you should not use your training environment but create an evaluation environment."
      ],
      "metadata": {
        "id": "fy-oCSocNn56"
      }
    },
    {
      "cell_type": "code",
      "source": [
        "from stable_baselines3.common.evaluation import evaluate_policy\n",
        "\n",
        "# TODO: Evaluate the agent\n",
        "\n",
        "env_id = \"LunarLander-v2\"\n",
        "\n",
        "# Create a new environment for evaluation\n",
        "eval_env = DummyVecEnv([lambda: gym.make(env_id)])\n",
        "\n",
        "# Evaluate the model with 10 evaluation episodes and deterministic=True\n",
        "mean_reward, std_reward = evaluate_policy(model, eval_env, n_eval_episodes=10, deterministic=True)\n",
        "\n",
        "# Print the results\n",
        "print(f\"mean_reward= {mean_reward:.2f} +/- {std_reward}\")\n",
        "print(f\"score= {mean_reward / std_reward:.2f}\")"
      ],
      "metadata": {
        "colab": {
          "base_uri": "https://localhost:8080/"
        },
        "id": "jeKtXVJYNxAF",
        "outputId": "010932c4-5c85-423c-8fa3-38e86a5887ca"
      },
      "execution_count": 64,
      "outputs": [
        {
          "output_type": "stream",
          "name": "stdout",
          "text": [
            "mean_reward= -121.90 +/- 38.34322249481325\n",
            "score= -3.18\n"
          ]
        }
      ]
    },
    {
      "cell_type": "markdown",
      "metadata": {
        "id": "KOObbeu5MMlR"
      },
      "source": [
        "### Visualize trained agent\n",
        "\n"
      ]
    },
    {
      "cell_type": "code",
      "metadata": {
        "id": "iATu7AiyMQW2"
      },
      "source": [
        "record_video('LunarLander-v2', model, video_length=500, prefix='ppo-lunar')"
      ],
      "execution_count": null,
      "outputs": []
    },
    {
      "cell_type": "code",
      "metadata": {
        "id": "-n4i-fW3NojZ",
        "colab": {
          "base_uri": "https://localhost:8080/",
          "height": 17
        },
        "outputId": "17beb13b-8af3-45b7-88fa-43749daa8b42"
      },
      "source": [
        "show_videos('videos', prefix='ppo')"
      ],
      "execution_count": 74,
      "outputs": [
        {
          "output_type": "display_data",
          "data": {
            "text/plain": [
              "<IPython.core.display.HTML object>"
            ],
            "text/html": []
          },
          "metadata": {}
        }
      ]
    },
    {
      "cell_type": "markdown",
      "source": [
        "## Some additional challenges 🏆\n",
        "The best way to learn **is to try things by your own**! As you saw, the current agent is not doing great. So now manage on your own to improve your little agent and let's create a leaderboard in the class !\n",
        "\n",
        "\n",
        "Here are some ideas to achieve so:\n",
        "* Train more steps\n",
        "* Try different hyperparameters of `PPO`. You can see them at https://stable-baselines3.readthedocs.io/en/master/modules/ppo.html#parameters. "
      ],
      "metadata": {
        "id": "FgC6OzkSPNrX"
      }
    }
  ]
}